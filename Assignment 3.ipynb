{
 "cells": [
  {
   "cell_type": "code",
   "execution_count": 5,
   "id": "e013f0c8-2831-4056-9449-ed87ad579e8e",
   "metadata": {},
   "outputs": [],
   "source": [
    "#Q1 \n",
    "# def keyword is used to create a function\n",
    "def odd(a):\n",
    "    for b in a :\n",
    "        if b % 2 !=0 :\n",
    "            print(b)"
   ]
  },
  {
   "cell_type": "code",
   "execution_count": 6,
   "id": "bcb88f02-3389-4591-b5bf-b78e59f48e6d",
   "metadata": {},
   "outputs": [],
   "source": [
    "q=range(1,25)"
   ]
  },
  {
   "cell_type": "code",
   "execution_count": 7,
   "id": "2770182e-cc94-4f6f-96ea-a77cbc5751e4",
   "metadata": {},
   "outputs": [
    {
     "name": "stdout",
     "output_type": "stream",
     "text": [
      "1\n",
      "3\n",
      "5\n",
      "7\n",
      "9\n",
      "11\n",
      "13\n",
      "15\n",
      "17\n",
      "19\n",
      "21\n",
      "23\n"
     ]
    }
   ],
   "source": [
    "odd(q)"
   ]
  },
  {
   "cell_type": "code",
   "execution_count": 36,
   "id": "4b1665cf-350a-4ecd-9468-3519906a1764",
   "metadata": {},
   "outputs": [],
   "source": [
    "#Q2\n",
    "# *args is used to add any number arguments and non-keyword variables in a function \n",
    "# **kwargs is used to add any number of arguments and variables with keywords in a function as dict\n",
    "def test(*args):\n",
    "    a=len(*args)\n",
    "    return(a)"
   ]
  },
  {
   "cell_type": "code",
   "execution_count": 37,
   "id": "59257e2a-f7db-44bd-b28e-4e831c41fcb2",
   "metadata": {},
   "outputs": [],
   "source": [
    "a=[1,2,3,4,\"pw\",100,123]"
   ]
  },
  {
   "cell_type": "code",
   "execution_count": 38,
   "id": "dab15ade-1305-425b-a72b-601098e13749",
   "metadata": {},
   "outputs": [
    {
     "data": {
      "text/plain": [
       "7"
      ]
     },
     "execution_count": 38,
     "metadata": {},
     "output_type": "execute_result"
    }
   ],
   "source": [
    "test(a)"
   ]
  },
  {
   "cell_type": "code",
   "execution_count": 49,
   "id": "1fee0e3a-e66c-4c0f-a5fa-7c7f1e712f97",
   "metadata": {},
   "outputs": [],
   "source": [
    "def test1(**kwargs):\n",
    "    return(kwargs)\n",
    "   "
   ]
  },
  {
   "cell_type": "code",
   "execution_count": 62,
   "id": "9a1f2f3a-aa8b-4334-999d-46206f186d92",
   "metadata": {},
   "outputs": [
    {
     "data": {
      "text/plain": [
       "{'b': 6, 'a': [1, 2, 3, 4, 5], 'c': 23, 'q': 'que'}"
      ]
     },
     "execution_count": 62,
     "metadata": {},
     "output_type": "execute_result"
    }
   ],
   "source": [
    "test1(b = 6,a = [1,2,3,4,5],c = 23, q = 'que')"
   ]
  },
  {
   "cell_type": "code",
   "execution_count": 15,
   "id": "1879181a-c91d-429d-8eaa-418f90122c55",
   "metadata": {},
   "outputs": [],
   "source": [
    "#Q3\n",
    "# iterator are objecct that is iterable which can be called one after the other\n",
    "# iter() function is used to make iterable objects such (string,truples,lists) in into iterator\n",
    "l=(2,4,6,8,10,12,14,16,18,20)"
   ]
  },
  {
   "cell_type": "code",
   "execution_count": 18,
   "id": "7338bdb4-3c91-48ca-9397-9e20b009f47d",
   "metadata": {},
   "outputs": [],
   "source": [
    "l1=iter(l)"
   ]
  },
  {
   "cell_type": "code",
   "execution_count": 19,
   "id": "7fafc06e-b48b-49d8-9578-eaf5ce5fea58",
   "metadata": {},
   "outputs": [
    {
     "data": {
      "text/plain": [
       "2"
      ]
     },
     "execution_count": 19,
     "metadata": {},
     "output_type": "execute_result"
    }
   ],
   "source": [
    "next(l1)"
   ]
  },
  {
   "cell_type": "code",
   "execution_count": 20,
   "id": "4533f9c7-fb61-4e96-83e5-f8559e8a83ac",
   "metadata": {},
   "outputs": [
    {
     "data": {
      "text/plain": [
       "4"
      ]
     },
     "execution_count": 20,
     "metadata": {},
     "output_type": "execute_result"
    }
   ],
   "source": [
    "next(l1)"
   ]
  },
  {
   "cell_type": "code",
   "execution_count": 21,
   "id": "984a4968-767b-4888-9d83-0be38233b2ae",
   "metadata": {},
   "outputs": [
    {
     "data": {
      "text/plain": [
       "6"
      ]
     },
     "execution_count": 21,
     "metadata": {},
     "output_type": "execute_result"
    }
   ],
   "source": [
    "next(l1)"
   ]
  },
  {
   "cell_type": "code",
   "execution_count": 22,
   "id": "14c2655f-3aee-4827-8658-445db79caf09",
   "metadata": {},
   "outputs": [
    {
     "data": {
      "text/plain": [
       "8"
      ]
     },
     "execution_count": 22,
     "metadata": {},
     "output_type": "execute_result"
    }
   ],
   "source": [
    "next(l1)"
   ]
  },
  {
   "cell_type": "code",
   "execution_count": 23,
   "id": "71f996c2-25cc-47a7-9342-8ae8c71dee2b",
   "metadata": {},
   "outputs": [
    {
     "data": {
      "text/plain": [
       "10"
      ]
     },
     "execution_count": 23,
     "metadata": {},
     "output_type": "execute_result"
    }
   ],
   "source": [
    "next(l1)"
   ]
  },
  {
   "cell_type": "code",
   "execution_count": 32,
   "id": "2e4dd129-6909-478f-a398-8892a8493906",
   "metadata": {},
   "outputs": [],
   "source": [
    "#Q4\n",
    "# Generator function is used when a value is reuired without utilizing to much storage as this provides result without requiring a pre-defined list \n",
    "# Yield keyword is used to intealize a generative funtion instead of return word yield is used to provide the values of a function\n",
    "def test(n):\n",
    "    a=1\n",
    "    while a<n:\n",
    "        yield a\n",
    "        a=a+1"
   ]
  },
  {
   "cell_type": "code",
   "execution_count": 33,
   "id": "0d552285-2fd5-4b3c-ae56-761470b60925",
   "metadata": {},
   "outputs": [
    {
     "name": "stdout",
     "output_type": "stream",
     "text": [
      "1\n",
      "2\n",
      "3\n",
      "4\n",
      "5\n",
      "6\n"
     ]
    }
   ],
   "source": [
    "for b in test(7):\n",
    "    print (b)"
   ]
  },
  {
   "cell_type": "code",
   "execution_count": 6,
   "id": "abaf4682-9325-42dc-8305-92c7993c0c27",
   "metadata": {},
   "outputs": [],
   "source": [
    "#Q5\n",
    "def prime_generator():\n",
    "    primes=[2]\n",
    "    yield 2\n",
    "    \n",
    "    for n in range(3,1000,2):\n",
    "        is_prime = True\n",
    "        for prime in primes:\n",
    "            if prime * prime > n:\n",
    "                break\n",
    "            if n % prime ==0:\n",
    "                is_prime = False \n",
    "                break\n",
    "            if is_prime:\n",
    "                primes.append(n)\n",
    "                yield n\n",
    "                \n"
   ]
  },
  {
   "cell_type": "code",
   "execution_count": 7,
   "id": "c4f668cd-9807-47b0-82e1-7bf755dcecf8",
   "metadata": {},
   "outputs": [],
   "source": [
    "gen= prime_generator()"
   ]
  },
  {
   "cell_type": "code",
   "execution_count": 8,
   "id": "cc42e0e3-06e7-450e-9907-c3c768090380",
   "metadata": {},
   "outputs": [
    {
     "name": "stdout",
     "output_type": "stream",
     "text": [
      "2\n",
      "5\n",
      "7\n",
      "9\n",
      "11\n",
      "13\n",
      "15\n",
      "17\n",
      "19\n",
      "21\n",
      "23\n",
      "25\n",
      "27\n",
      "27\n",
      "29\n",
      "29\n",
      "31\n",
      "31\n",
      "33\n",
      "33\n"
     ]
    }
   ],
   "source": [
    "for _ in range (20):\n",
    "    print(next(gen))"
   ]
  },
  {
   "cell_type": "code",
   "execution_count": 39,
   "id": "0851172a-1cbb-4294-a2b3-bb502f9e0cb2",
   "metadata": {},
   "outputs": [],
   "source": [
    "#Q6\n",
    "def fib():\n",
    "    a,b=0,1\n",
    "    while True :\n",
    "        yield a\n",
    "        a,b= b , a+b"
   ]
  },
  {
   "cell_type": "code",
   "execution_count": 10,
   "id": "5ce92839-bf5f-46fa-8484-01b20cf8fb72",
   "metadata": {},
   "outputs": [],
   "source": [
    "fun=fib()"
   ]
  },
  {
   "cell_type": "code",
   "execution_count": 11,
   "id": "f535e619-f548-4c24-a2be-344a8c719a8e",
   "metadata": {},
   "outputs": [
    {
     "name": "stdout",
     "output_type": "stream",
     "text": [
      "0\n",
      "1\n",
      "1\n",
      "2\n",
      "3\n",
      "5\n",
      "8\n",
      "13\n",
      "21\n",
      "34\n"
     ]
    }
   ],
   "source": [
    "for a in range(10):\n",
    "    print(next(fun))"
   ]
  },
  {
   "cell_type": "code",
   "execution_count": 32,
   "id": "fb209a67-9b01-4a8f-a76a-875ac37cf5f2",
   "metadata": {},
   "outputs": [],
   "source": [
    "#Q7\n",
    "s='pwskills'"
   ]
  },
  {
   "cell_type": "code",
   "execution_count": 52,
   "id": "b4bee5d7-d0ee-4b2b-8615-c9b528f34a38",
   "metadata": {},
   "outputs": [],
   "source": [
    "w=iter(s)"
   ]
  },
  {
   "cell_type": "code",
   "execution_count": 53,
   "id": "81f4398e-b2c5-4c68-ae98-66bb10e33ba6",
   "metadata": {},
   "outputs": [
    {
     "name": "stdout",
     "output_type": "stream",
     "text": [
      "['p']\n",
      "['w']\n",
      "['s']\n",
      "['k']\n",
      "['i']\n",
      "['l']\n",
      "['l']\n",
      "['s']\n"
     ]
    }
   ],
   "source": [
    "for a in range(8):\n",
    "    print(list(next(w)))\n",
    "    "
   ]
  },
  {
   "cell_type": "code",
   "execution_count": 5,
   "id": "60ad5490-eb0d-4cc8-bd32-b1682c994024",
   "metadata": {},
   "outputs": [],
   "source": [
    "#Q8\n",
    "def pal(s):\n",
    "    return s == s [::-1]\n"
   ]
  },
  {
   "cell_type": "code",
   "execution_count": 7,
   "id": "d1cec51c-512c-4d06-972a-8bb7e1d2afb4",
   "metadata": {},
   "outputs": [
    {
     "data": {
      "text/plain": [
       "True"
      ]
     },
     "execution_count": 7,
     "metadata": {},
     "output_type": "execute_result"
    }
   ],
   "source": [
    "pal(\"pswwsp\")"
   ]
  },
  {
   "cell_type": "code",
   "execution_count": 8,
   "id": "8a532e27-eb54-4d82-8126-acde59c5afc3",
   "metadata": {},
   "outputs": [
    {
     "data": {
      "text/plain": [
       "False"
      ]
     },
     "execution_count": 8,
     "metadata": {},
     "output_type": "execute_result"
    }
   ],
   "source": [
    "pal(\"avavd\")"
   ]
  },
  {
   "cell_type": "code",
   "execution_count": 23,
   "id": "b49a9690-28e2-4473-bebd-1cdbee6a6587",
   "metadata": {},
   "outputs": [],
   "source": [
    "# Q9\n",
    "odd_number = [x for x in range (1, 101) if x%2 !=0]"
   ]
  },
  {
   "cell_type": "code",
   "execution_count": 24,
   "id": "5596ec24-25b7-4022-8cab-f2afdbe1f508",
   "metadata": {},
   "outputs": [
    {
     "data": {
      "text/plain": [
       "[1,\n",
       " 3,\n",
       " 5,\n",
       " 7,\n",
       " 9,\n",
       " 11,\n",
       " 13,\n",
       " 15,\n",
       " 17,\n",
       " 19,\n",
       " 21,\n",
       " 23,\n",
       " 25,\n",
       " 27,\n",
       " 29,\n",
       " 31,\n",
       " 33,\n",
       " 35,\n",
       " 37,\n",
       " 39,\n",
       " 41,\n",
       " 43,\n",
       " 45,\n",
       " 47,\n",
       " 49,\n",
       " 51,\n",
       " 53,\n",
       " 55,\n",
       " 57,\n",
       " 59,\n",
       " 61,\n",
       " 63,\n",
       " 65,\n",
       " 67,\n",
       " 69,\n",
       " 71,\n",
       " 73,\n",
       " 75,\n",
       " 77,\n",
       " 79,\n",
       " 81,\n",
       " 83,\n",
       " 85,\n",
       " 87,\n",
       " 89,\n",
       " 91,\n",
       " 93,\n",
       " 95,\n",
       " 97,\n",
       " 99]"
      ]
     },
     "execution_count": 24,
     "metadata": {},
     "output_type": "execute_result"
    }
   ],
   "source": [
    "odd_number"
   ]
  },
  {
   "cell_type": "code",
   "execution_count": null,
   "id": "3eb8cf8b-d2f1-44c8-90f5-71ae55845048",
   "metadata": {},
   "outputs": [],
   "source": []
  }
 ],
 "metadata": {
  "kernelspec": {
   "display_name": "Python 3 (ipykernel)",
   "language": "python",
   "name": "python3"
  },
  "language_info": {
   "codemirror_mode": {
    "name": "ipython",
    "version": 3
   },
   "file_extension": ".py",
   "mimetype": "text/x-python",
   "name": "python",
   "nbconvert_exporter": "python",
   "pygments_lexer": "ipython3",
   "version": "3.10.8"
  }
 },
 "nbformat": 4,
 "nbformat_minor": 5
}
